{
 "cells": [
  {
   "cell_type": "markdown",
   "id": "0a7307cf-c2d2-4a0b-bb17-f4df6906c6d8",
   "metadata": {},
   "source": [
    "# Introduction to Quantum Programming with Cirq\n",
    "## Calcul Québec\n",
    "\n",
    "**Instructrice**: Denise Koch\n",
    "\n",
    "**Algorithmes**: Vincent Brodeur"
   ]
  },
  {
   "cell_type": "markdown",
   "id": "b1e90f27-c937-43eb-a026-de2e3cefd639",
   "metadata": {},
   "source": [
    "## Jupyter Interface \n",
    "- Right panel: working notebooks\n",
    "- Left panel: list of pages\n",
    "- Create an empty page: click on the + sign in the upper left and on Python 3\n",
    "    - Rename the page by right-clicking the Untitled.ipynb page and on Rename\n",
    "- By default, a cell is for code, but it can be changed to Raw or Markdown on the tools menu at the top of the page\n",
    "- Many ways to add cells:\n",
    "    - + sign on top of the page or the + signs on the top right of a cell to insert above or below the current cell\n",
    "- To execute a cell: Shift+Enter\n",
    "\n",
    "Markdown cheatsheet: https://www.ibm.com/docs/en/watson-studio-local/1.2.3?topic=notebooks-markdown-jupyter-cheatsheet "
   ]
  },
  {
   "cell_type": "markdown",
   "id": "7345f911-510d-47bc-b7ba-aea46027bf67",
   "metadata": {},
   "source": [
    "### Save a page on your local computer\n",
    "\n",
    "- Open the page and on the top menu:\n",
    "    - File -> Save and Export Notebook as PDF\n",
    "    - When you are finished with a page, you can save and close it with the X beside the name of the page"
   ]
  },
  {
   "cell_type": "markdown",
   "id": "73448add",
   "metadata": {},
   "source": [
    "# References and resources\n",
    "\n",
    "## Quantum computing\n",
    "- Nielsen, Michael A., and Isaac Chuang. \"Quantum computation and quantum information.\" (2010)\n",
    "- https://gitlab.com/qworld/bronze-qiskit\n",
    "- https://gitlab.com/qworld/silver\n",
    "- Cheat sheet of quantum computing concepts: https://www.meetiqm.com/resources/blog/quantum-computing-cheat-sheet-for-circuit-magicians/\n",
    "\n",
    "## Python\n",
    "- Basic Python concepts: https://swcarpentry.github.io/python-novice-inflammation/ \n",
    "- Numpy tutorial for linear algebra: https://realpython.com/numpy-tutorial/\n",
    "\n",
    "## Cirq\n",
    "- https://quantumai.google/cirq\n"
   ]
  },
  {
   "cell_type": "code",
   "execution_count": null,
   "id": "03fc8f24",
   "metadata": {},
   "outputs": [],
   "source": []
  }
 ],
 "metadata": {
  "kernelspec": {
   "display_name": "Python 3 (ipykernel)",
   "language": "python",
   "name": "python3"
  },
  "language_info": {
   "codemirror_mode": {
    "name": "ipython",
    "version": 3
   },
   "file_extension": ".py",
   "mimetype": "text/x-python",
   "name": "python",
   "nbconvert_exporter": "python",
   "pygments_lexer": "ipython3",
   "version": "3.10.9"
  }
 },
 "nbformat": 4,
 "nbformat_minor": 5
}
