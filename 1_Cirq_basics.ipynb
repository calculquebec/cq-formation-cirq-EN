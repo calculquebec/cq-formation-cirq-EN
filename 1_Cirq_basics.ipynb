{
 "cells": [
  {
   "cell_type": "markdown",
   "metadata": {},
   "source": [
    "<table width=\"100%\"><tr><td style=\"color:#bbbbbb;background-color:#ffffff;font-size:11px;font-style:italic;text-align:right;\">This cell contains macros. Run the cell if the formulas have errors.</td></tr></table>\n",
    "$ \\newcommand{\\bra}[1]{\\langle #1|} $\n",
    "$ \\newcommand{\\ket}[1]{|#1\\rangle} $\n",
    "$ \\newcommand{\\braket}[2]{\\langle #1|#2\\rangle} $\n",
    "$ \\newcommand{\\dot}[2]{ #1 \\cdot #2} $\n",
    "$ \\newcommand{\\biginner}[2]{\\left\\langle #1,#2\\right\\rangle} $\n",
    "$ \\newcommand{\\mymatrix}[2]{\\left( \\begin{array}{#1} #2\\end{array} \\right)} $\n",
    "$ \\newcommand{\\myvector}[1]{\\mymatrix{c}{#1}} $\n",
    "$ \\newcommand{\\myrvector}[1]{\\mymatrix{r}{#1}} $\n",
    "$ \\newcommand{\\mypar}[1]{\\left( #1 \\right)} $\n",
    "$ \\newcommand{\\mybigpar}[1]{ \\Big( #1 \\Big)} $\n",
    "$ \\newcommand{\\sqrttwo}{\\frac{1}{\\sqrt{2}}} $\n",
    "$ \\newcommand{\\dsqrttwo}{\\dfrac{1}{\\sqrt{2}}} $\n",
    "$ \\newcommand{\\onehalf}{\\frac{1}{2}} $\n",
    "$ \\newcommand{\\donehalf}{\\dfrac{1}{2}} $\n",
    "$ \\newcommand{\\hadamard}{ \\mymatrix{rr}{ \\sqrttwo & \\sqrttwo \\\\ \\sqrttwo & -\\sqrttwo }} $\n",
    "$ \\newcommand{\\vzero}{\\myvector{1\\\\0}} $\n",
    "$ \\newcommand{\\vone}{\\myvector{0\\\\1}} $\n",
    "$ \\newcommand{\\vhadamardzero}{\\myvector{ \\sqrttwo \\\\  \\sqrttwo } } $\n",
    "$ \\newcommand{\\vhadamardone}{ \\myrvector{ \\sqrttwo \\\\ -\\sqrttwo } } $\n",
    "$ \\newcommand{\\myarray}[2]{ \\begin{array}{#1}#2\\end{array}} $\n",
    "$ \\newcommand{\\X}{ \\mymatrix{cc}{0 & 1 \\\\ 1 & 0}  } $\n",
    "$ \\newcommand{\\Z}{ \\mymatrix{rr}{1 & 0 \\\\ 0 & -1}  } $\n",
    "$ \\newcommand{\\Htwo}{ \\mymatrix{rrrr}{ \\frac{1}{2} & \\frac{1}{2} & \\frac{1}{2} & \\frac{1}{2} \\\\ \\frac{1}{2} & -\\frac{1}{2} & \\frac{1}{2} & -\\frac{1}{2} \\\\ \\frac{1}{2} & \\frac{1}{2} & -\\frac{1}{2} & -\\frac{1}{2} \\\\ \\frac{1}{2} & -\\frac{1}{2} & -\\frac{1}{2} & \\frac{1}{2} } } $\n",
    "$ \\newcommand{\\CNOT}{ \\mymatrix{cccc}{1 & 0 & 0 & 0 \\\\ 0 & 1 & 0 & 0 \\\\ 0 & 0 & 0 & 1 \\\\ 0 & 0 & 1 & 0} } $\n",
    "$ \\newcommand{\\norm}[1]{ \\left\\lVert #1 \\right\\rVert } $"
   ]
  },
  {
   "cell_type": "markdown",
   "metadata": {},
   "source": [
    "<h1> Introduction to Cirq </h1>\n",
    "\n",
    "<hr>"
   ]
  },
  {
   "cell_type": "markdown",
   "metadata": {},
   "source": [
    "You can import Cirq using the following command:"
   ]
  },
  {
   "cell_type": "code",
   "execution_count": 2,
   "metadata": {},
   "outputs": [],
   "source": [
    "import cirq"
   ]
  },
  {
   "cell_type": "markdown",
   "metadata": {},
   "source": [
    "<hr>\n",
    "<h2>Qubits creation</h2>"
   ]
  },
  {
   "cell_type": "markdown",
   "metadata": {},
   "source": [
    "There are several ways to create qubits with CirQ. We introduce two methods here."
   ]
  },
  {
   "cell_type": "markdown",
   "metadata": {},
   "source": [
    "<b>Named qubits</b>"
   ]
  },
  {
   "cell_type": "markdown",
   "metadata": {},
   "source": [
    "The method of naming qubits is the simplest way to create qubits. Qubits are identified by their name."
   ]
  },
  {
   "cell_type": "code",
   "execution_count": null,
   "metadata": {},
   "outputs": [],
   "source": [
    "# Creation of two qubits: control and target\n",
    "ctrl = cirq.NamedQubit('control')\n",
    "tgt = cirq.NamedQubit('target')\n",
    "print(ctrl)\n",
    "print(tgt)"
   ]
  },
  {
   "cell_type": "markdown",
   "metadata": {},
   "source": [
    "<b>Line qubits</b>"
   ]
  },
  {
   "cell_type": "markdown",
   "metadata": {},
   "source": [
    "The <i>Line Qubit</i> command creates a qubit located on a 1-D line and each qubit is identified by its $x$ coordinate."
   ]
  },
  {
   "cell_type": "code",
   "execution_count": null,
   "metadata": {},
   "outputs": [],
   "source": [
    "# Creates the fourth qubit on the line\n",
    "q4 = cirq.LineQubit(4)\n",
    "print(q4)\n",
    "# Note that 4 is not the number of qubits"
   ]
  },
  {
   "cell_type": "markdown",
   "metadata": {},
   "source": [
    "To create a list of qubits, the \"range\" command is used"
   ]
  },
  {
   "cell_type": "code",
   "execution_count": null,
   "metadata": {},
   "outputs": [],
   "source": [
    "# List of 4 qubits starting with index 0 and ending with index 3\n",
    "qlist = cirq.LineQubit.range(4) \n",
    "\n",
    "# Element in the list of qubits\n",
    "print(qlist[2])\n",
    "\n",
    "# Qubits in the list can also be stored individually\n",
    "qubit0, qubit1, qubit2 = cirq.LineQubit.range(3)"
   ]
  },
  {
   "cell_type": "markdown",
   "metadata": {},
   "source": [
    "<hr>\n",
    "<h2>Circuit creation</h2>"
   ]
  },
  {
   "cell_type": "code",
   "execution_count": null,
   "metadata": {},
   "outputs": [],
   "source": [
    "# Creation of a quantum circuit\n",
    "circuit = cirq.Circuit()"
   ]
  },
  {
   "cell_type": "markdown",
   "metadata": {},
   "source": [
    "<hr>\n",
    "<h2>Quantum gates</h2>"
   ]
  },
  {
   "cell_type": "markdown",
   "metadata": {},
   "source": [
    "Here are some <i>gates</i> and how we apply them with Cirq. Gates (operations) are applied to qubits and the operations are added to quantum circuits. Qubits do not belong in circuits."
   ]
  },
  {
   "cell_type": "code",
   "execution_count": null,
   "metadata": {},
   "outputs": [],
   "source": [
    "# Import desired gates\n",
    "from cirq import X, Z, H, CX, CZ, SWAP, CCX\n",
    "\n",
    "# Apply the NOT gate to qubit 2\n",
    "circuit.append(X(qlist[2]))\n",
    "\n",
    "# Apply the Z gate to qubit 2\n",
    "circuit.append(Z(qlist[2]))\n",
    "\n",
    "# Apply the H gate to qubit 3\n",
    "circuit.append(H(qlist[3]))\n",
    "\n",
    "# Apply the CNOT gate where qubit 2 is the control and qubit 0 is the target\n",
    "circuit.append(CX(qlist[2], qlist[0]))\n",
    "\n",
    "# Apply the CZ gate where qubit 0 is the control and qubit 1 is the target\n",
    "circuit.append(CZ(qlist[0], qlist[1]))\n",
    "\n",
    "# Apply the SWAP gate to qubits 1 and 3\n",
    "circuit.append(SWAP(qlist[1], qlist[3]))\n",
    "\n",
    "# Apply the CCNOT gate where qubits 0 and 1 are the controls and qubit 2 is the target\n",
    "circuit.append(CCX(qlist[0], qlist[1], qlist[2]))"
   ]
  },
  {
   "cell_type": "markdown",
   "metadata": {},
   "source": [
    "Visualize the circuit"
   ]
  },
  {
   "cell_type": "code",
   "execution_count": null,
   "metadata": {
    "scrolled": true
   },
   "outputs": [],
   "source": [
    "print(circuit)"
   ]
  },
  {
   "cell_type": "markdown",
   "metadata": {},
   "source": [
    "### Exercise 1\n",
    "    \n",
    "Create a circuit with 10 qubits.\n",
    "\n",
    "1. Apply the $H$ gate to qubit 0\n",
    "2. Apply 9 $CNOT$ gates where the qubit $0$ is the control and the qubists $i$ are the targets for $i=1,\\dots,9$.\n",
    "\n",
    "Visualize the circuit\n",
    "\n",
    "**Note:** CirQ uses a quantum register and a classical register for measurement."
   ]
  },
  {
   "cell_type": "code",
   "execution_count": null,
   "metadata": {},
   "outputs": [],
   "source": [
    "import cirq\n",
    "from cirq import H, CX\n",
    "\n",
    "#\n",
    "# Your solution here\n",
    "#\n"
   ]
  },
  {
   "cell_type": "markdown",
   "metadata": {},
   "source": [
    "[Check solution here](Solutions/1_Cirq_basics_solutions.ipynb)"
   ]
  },
  {
   "cell_type": "markdown",
   "metadata": {},
   "source": [
    "<h2> Other operations on gates </h2>"
   ]
  },
  {
   "cell_type": "markdown",
   "metadata": {},
   "source": [
    "It is possible to apply a gate to multiple qubits at once using the <i>on_each</i> keyword and using `*` before the qubits. (`*` is used in Python to unpack a list)"
   ]
  },
  {
   "cell_type": "code",
   "execution_count": null,
   "metadata": {},
   "outputs": [],
   "source": [
    "circuit2 = cirq.Circuit()\n",
    "qlist = cirq.LineQubit.range(4)\n",
    "circuit2.append(H.on_each(*qlist))\n",
    "print(circuit2)"
   ]
  },
  {
   "cell_type": "markdown",
   "metadata": {},
   "source": [
    "The <i>controlled</i> function creates the controlled version of any gate."
   ]
  },
  {
   "cell_type": "code",
   "execution_count": null,
   "metadata": {},
   "outputs": [],
   "source": [
    "CCCH =  H(qlist[2]).controlled_by(qlist[0],qlist[1],qlist[3])\n",
    "circuit2.append(CCCH)\n",
    "print(circuit2)"
   ]
  },
  {
   "cell_type": "markdown",
   "metadata": {},
   "source": [
    "We can also define the operator before applying it to the qubits."
   ]
  },
  {
   "cell_type": "code",
   "execution_count": null,
   "metadata": {},
   "outputs": [],
   "source": [
    "CCCZ = Z.controlled(3)\n",
    "circuit2.append(CCCZ(*qlist[0:4]))\n",
    "print(circuit2)"
   ]
  },
  {
   "cell_type": "markdown",
   "metadata": {},
   "source": [
    "We can define new gates with arithmetic operations"
   ]
  },
  {
   "cell_type": "code",
   "execution_count": null,
   "metadata": {
    "scrolled": true
   },
   "outputs": [],
   "source": [
    "ROOTX = X**0.5\n",
    "circuit2.append(ROOTX(qlist[1]))\n",
    "print(circuit2)"
   ]
  },
  {
   "cell_type": "markdown",
   "metadata": {},
   "source": [
    "### Exercise 2\n",
    "    \n",
    "Create a circuit with 10 qubits.\n",
    "\n",
    "1. Apply $H$ gates to all qubits.\n",
    "2. Apply gate $X$ to qubit 0 controlled by qubits 1-9\n",
    "3. Apply $H$ gates to all qubits.\n",
    "\n",
    "Visualize the circuit."
   ]
  },
  {
   "cell_type": "code",
   "execution_count": null,
   "metadata": {},
   "outputs": [],
   "source": [
    "import cirq\n",
    "from cirq import H, X\n",
    "\n",
    "#\n",
    "# Your solution here\n",
    "#\n"
   ]
  },
  {
   "cell_type": "markdown",
   "metadata": {},
   "source": [
    "[Check solution here](Solutions/1_Cirq_basics_solutions.ipynb)"
   ]
  },
  {
   "cell_type": "markdown",
   "metadata": {},
   "source": [
    "<hr>\n",
    "<h2>Execute circuits</h2>"
   ]
  },
  {
   "cell_type": "markdown",
   "metadata": {},
   "source": [
    "One way to get results from your circuit is to measure and run it several times."
   ]
  },
  {
   "cell_type": "code",
   "execution_count": null,
   "metadata": {},
   "outputs": [],
   "source": [
    "import cirq\n",
    "from cirq import H, measure\n",
    "\n",
    "# Create two-qubit quantum and classical registers\n",
    "qlist = cirq.LineQubit.range(2)\n",
    "\n",
    "# Create the circuit\n",
    "circuit = cirq.Circuit()\n",
    "\n",
    "# Apply the H gate to qubit 0\n",
    "circuit.append(H(qlist[0]))\n",
    "\n",
    "# Measure the qubits\n",
    "circuit.append(measure(*qlist, key='result'))"
   ]
  },
  {
   "cell_type": "markdown",
   "metadata": {},
   "source": [
    "Cirq can simulate circuits with up to 20 qubits. We initialize the <i>simulator</i> and run our circuit several times."
   ]
  },
  {
   "cell_type": "code",
   "execution_count": null,
   "metadata": {},
   "outputs": [],
   "source": [
    "# Local simulator\n",
    "s = cirq.Simulator()\n",
    "\n",
    "# \"circuit\" is the circuit to be measured\n",
    "# \"repetitions\" is the number of shots\n",
    "sample=s.run(circuit, repetitions=1000)\n",
    "\n",
    "# Store the results in a list\n",
    "print(sample.histogram(key='result'))"
   ]
  },
  {
   "cell_type": "markdown",
   "metadata": {},
   "source": [
    "Note that the results are in decimal form (i.e. 2 instead of <10>). We can get the state representation as follows."
   ]
  },
  {
   "cell_type": "code",
   "execution_count": null,
   "metadata": {},
   "outputs": [],
   "source": [
    "def bitstring(bits):\n",
    "    return \"\".join(str(int(b)) for b in bits)\n",
    "\n",
    "counts = sample.histogram(key=\"result\",fold_func=bitstring)\n",
    "print(counts)"
   ]
  },
  {
   "cell_type": "markdown",
   "metadata": {},
   "source": [
    "Cirq also provides a list of all measurement results."
   ]
  },
  {
   "cell_type": "code",
   "execution_count": null,
   "metadata": {},
   "outputs": [],
   "source": [
    "result = sample.measurements[\"result\"]\n",
    "print(result)"
   ]
  },
  {
   "cell_type": "markdown",
   "metadata": {},
   "source": [
    "It is also possible to measure only some of the qubits. Let's only measure qlist[0] this time."
   ]
  },
  {
   "cell_type": "code",
   "execution_count": null,
   "metadata": {
    "scrolled": true
   },
   "outputs": [],
   "source": [
    "import cirq\n",
    "from cirq import H, measure\n",
    "\n",
    "# Create the two-qubit quantum and classical registers\n",
    "qlist = cirq.LineQubit.range(2)\n",
    "\n",
    "# Create the circuit\n",
    "circuit = cirq.Circuit()\n",
    "\n",
    "# Apply the H gate to qubit 0\n",
    "circuit.append(H(qlist[0]))\n",
    "\n",
    "# Measure the qubits and store the result in the variable \"result\"\n",
    "circuit.append(measure(qlist[0], key='result'))\n",
    "\n",
    "# Simulateur local\n",
    "s = cirq.Simulator()\n",
    "\n",
    "sample=s.run(circuit, repetitions=1000)\n",
    "\n",
    "def bitstring(bits):\n",
    "    return \"\".join(str(int(b)) for b in bits)\n",
    "\n",
    "counts = sample.histogram(key=\"result\",fold_func=bitstring)\n",
    "print(counts)"
   ]
  },
  {
   "cell_type": "markdown",
   "metadata": {},
   "source": [
    "<a id=\"task3\"></a>\n",
    "### Exercise 3\n",
    "    \n",
    "Implement the circuit from exercise 1. Measure all the qubits and simulate your circuit 1000 times."
   ]
  },
  {
   "cell_type": "code",
   "execution_count": null,
   "metadata": {},
   "outputs": [],
   "source": [
    "import cirq\n",
    "from cirq import H, CX, measure\n",
    "\n",
    "#\n",
    "# Your solution here\n",
    "#\n"
   ]
  },
  {
   "cell_type": "markdown",
   "metadata": {
    "tags": []
   },
   "source": [
    "[Check solution here](Solutions/1_Cirq_basics_solutions.ipynb)"
   ]
  },
  {
   "cell_type": "markdown",
   "metadata": {},
   "source": [
    "<hr>"
   ]
  },
  {
   "cell_type": "markdown",
   "metadata": {},
   "source": [
    "## Circuit Debugging – State Representation"
   ]
  },
  {
   "cell_type": "markdown",
   "metadata": {},
   "source": [
    "It is possible to obtain the exact quantum state from the simulator. You should not measure your circuit until you obtain the final state of the qubit(s).\n",
    "\n",
    "We will use the simulate function in Cirq to obtain the exact quantum state."
   ]
  },
  {
   "cell_type": "code",
   "execution_count": null,
   "metadata": {},
   "outputs": [],
   "source": [
    "import cirq\n",
    "from cirq import H, measure\n",
    "\n",
    "qlist = cirq.LineQubit.range(2)\n",
    "\n",
    "circuit = cirq.Circuit()\n",
    "\n",
    "circuit.append(H(qlist[0]))\n",
    "\n",
    "# Simulate the circuit\n",
    "results=s.simulate(circuit)\n",
    "print(results)"
   ]
  },
  {
   "cell_type": "markdown",
   "metadata": {},
   "source": [
    "Note that since we have not applied any gate on qlist[1], it is not visible in the output. Let's check the following circuit."
   ]
  },
  {
   "cell_type": "code",
   "execution_count": null,
   "metadata": {},
   "outputs": [],
   "source": [
    "import cirq\n",
    "from cirq import H, I, measure\n",
    "\n",
    "qlist = cirq.LineQubit.range(2)\n",
    "\n",
    "circuit = cirq.Circuit()\n",
    "\n",
    "circuit.append(H(qlist[0]))\n",
    "\n",
    "# Apply the Identity gate to qubit 1\n",
    "circuit.append(I(qlist[1]))\n",
    "\n",
    "# Simulate the circuit\n",
    "results=s.simulate(circuit)\n",
    "print(results)"
   ]
  },
  {
   "cell_type": "markdown",
   "metadata": {},
   "source": [
    "If you use the simulator after the measurement, you will observe that the quantum state has collapsed to one of the states."
   ]
  },
  {
   "cell_type": "code",
   "execution_count": null,
   "metadata": {},
   "outputs": [],
   "source": [
    "circuit.append(measure(*qlist))\n",
    "results=s.simulate(circuit)\n",
    "print(results)"
   ]
  },
  {
   "cell_type": "markdown",
   "metadata": {},
   "source": [
    "If we simulate a circuit when there are more than 3 qubits, then the quantum state is represented in vector form instead of Dirac notation."
   ]
  },
  {
   "cell_type": "code",
   "execution_count": null,
   "metadata": {},
   "outputs": [],
   "source": [
    "import cirq\n",
    "from cirq import H, measure\n",
    "\n",
    "qlist = cirq.LineQubit.range(4)\n",
    "\n",
    "circuit = cirq.Circuit()\n",
    "\n",
    "circuit.append(H.on_each(*qlist))\n",
    "\n",
    "results=s.simulate(circuit)\n",
    "print(results)"
   ]
  },
  {
   "cell_type": "markdown",
   "metadata": {},
   "source": [
    "### Exercise 4\n",
    "    \n",
    "Create a quantum circuit with 4 qubits. Apply the Hadamard gate to each qubit and the $CZ$ gate to qubits 0 (control) and 1 (target). Use the simulator without measuring the circuit. Check entries with a negative sign."
   ]
  },
  {
   "cell_type": "code",
   "execution_count": null,
   "metadata": {},
   "outputs": [],
   "source": [
    "import cirq\n",
    "from cirq import H, CZ\n",
    "\n",
    "#\n",
    "# Your solution here\n",
    "#"
   ]
  },
  {
   "cell_type": "markdown",
   "metadata": {
    "tags": []
   },
   "source": [
    "[Check solution here](Solutions/1_Cirq_basics_solutions.ipynb)"
   ]
  },
  {
   "cell_type": "markdown",
   "metadata": {},
   "source": [
    "<hr>\n",
    "<h2>Unitary matrix</h2>"
   ]
  },
  {
   "cell_type": "markdown",
   "metadata": {},
   "source": [
    "It is possible to obtain a <i>unitary</i> matrix representation of gates and circuits."
   ]
  },
  {
   "cell_type": "code",
   "execution_count": null,
   "metadata": {},
   "outputs": [],
   "source": [
    "from cirq import CX, X\n",
    "\n",
    "ROOTX = X**0.5\n",
    "\n",
    "print('unitary matrix representation of the CNOT gate')\n",
    "print(cirq.unitary(CX))\n",
    "print('unitary matrix representation CROOTX')\n",
    "print(cirq.unitary(ROOTX))"
   ]
  },
  {
   "cell_type": "code",
   "execution_count": null,
   "metadata": {
    "scrolled": true
   },
   "outputs": [],
   "source": [
    "print(\"unitary matrix representation of the operator H on 2 qubits\")\n",
    "qliste = cirq.LineQubit.range(2)\n",
    "circuit = cirq.Circuit()\n",
    "circuit.append(cirq.H.on_each(*qlist))\n",
    "print(cirq.unitary(circuit))"
   ]
  },
  {
   "cell_type": "code",
   "execution_count": null,
   "metadata": {},
   "outputs": [],
   "source": []
  }
 ],
 "metadata": {
  "kernelspec": {
   "display_name": "Python 3 (ipykernel)",
   "language": "python",
   "name": "python3"
  },
  "language_info": {
   "codemirror_mode": {
    "name": "ipython",
    "version": 3
   },
   "file_extension": ".py",
   "mimetype": "text/x-python",
   "name": "python",
   "nbconvert_exporter": "python",
   "pygments_lexer": "ipython3",
   "version": "3.10.9"
  }
 },
 "nbformat": 4,
 "nbformat_minor": 4
}
