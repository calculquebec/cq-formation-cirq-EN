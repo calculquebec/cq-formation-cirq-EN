{
 "cells": [
  {
   "cell_type": "markdown",
   "id": "0a7307cf-c2d2-4a0b-bb17-f4df6906c6d8",
   "metadata": {},
   "source": [
    "# Introduction to Quantum Programming with Cirq\n",
    "November 28, 2023\n",
    "\n",
    "**Instructor**: Denise Koch\n",
    "\n",
    "**Algorithms**: Vincent Brodeur\n",
    "***"
   ]
  },
  {
   "cell_type": "markdown",
   "id": "c89e65be-4913-4e18-9a85-2234d33b266c",
   "metadata": {},
   "source": [
    "# Content\n",
    "\n",
    "## Background information\n",
    "- [Python reference - useful commands](Preliminaries/0a_Python_Reference.ipynb)\n",
    "- [Vector basics and commands](Preliminaries/0b_Vectors.ipynb)\n",
    "- [Matrix basics and commands](Preliminaries/0c_Matrices.ipynb)\n",
    "\n",
    "## Revision of quantum computing (QC) concepts\n",
    "- [QC Concepts necessary for understanding Shor's algorithm](0b_Review_QCconcepts.ipynb)\n",
    "\n",
    "## Essential Cirq commands\n",
    "- [Cirq basics](1_Cirq_basics.ipynb)\n",
    "\n",
    "## Shor's algorithm in Cirq\n",
    "- [Understanding the quantum Fourier transform (QFT) and quantum phase estimation (QPE)](2a_QFT_QPE.ipynb)\n",
    "- [Factoring with QFT](2b_Factoring.ipynb)\n",
    "- [Cirq implementation of Shor's algorithm](2c_Shor_Cirq_implementation.ipynb)\n",
    "***"
   ]
  },
  {
   "cell_type": "markdown",
   "id": "73448add",
   "metadata": {},
   "source": [
    "# References and resources\n",
    "\n",
    "## Quantum computing\n",
    "- Nielsen, Michael A., and Isaac Chuang. \"Quantum computation and quantum information.\" (2010)\n",
    "- https://gitlab.com/qworld/bronze-qiskit\n",
    "- https://gitlab.com/qworld/silver\n",
    "- Cheat sheet of quantum computing concepts: https://www.meetiqm.com/resources/blog/quantum-computing-cheat-sheet-for-circuit-magicians/\n",
    "\n",
    "## Python\n",
    "- Basic Python concepts: https://swcarpentry.github.io/python-novice-inflammation/ \n",
    "- Numpy tutorial for linear algebra: https://realpython.com/numpy-tutorial/\n",
    "\n",
    "## Cirq\n",
    "- https://quantumai.google/cirq\n"
   ]
  },
  {
   "cell_type": "code",
   "execution_count": null,
   "id": "03fc8f24",
   "metadata": {},
   "outputs": [],
   "source": []
  }
 ],
 "metadata": {
  "kernelspec": {
   "display_name": "Python 3 (ipykernel)",
   "language": "python",
   "name": "python3"
  },
  "language_info": {
   "codemirror_mode": {
    "name": "ipython",
    "version": 3
   },
   "file_extension": ".py",
   "mimetype": "text/x-python",
   "name": "python",
   "nbconvert_exporter": "python",
   "pygments_lexer": "ipython3",
   "version": "3.10.9"
  }
 },
 "nbformat": 4,
 "nbformat_minor": 5
}
