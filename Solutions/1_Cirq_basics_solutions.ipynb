{
 "cells": [
  {
   "cell_type": "markdown",
   "id": "4c8d5bd5-211e-4740-b9c0-283484d85b14",
   "metadata": {},
   "source": [
    "<table width=\"100%\"><tr><td style=\"color:#bbbbbb;background-color:#ffffff;font-size:11px;font-style:italic;text-align:right;\">Cette cellule contient des macros. Exécutez la cellule si les formules ont des erreurs.</td></tr></table>\n",
    "$ \\newcommand{\\bra}[1]{\\langle #1|} $\n",
    "$ \\newcommand{\\ket}[1]{|#1\\rangle} $\n",
    "$ \\newcommand{\\braket}[2]{\\langle #1|#2\\rangle} $\n",
    "$ \\newcommand{\\dot}[2]{ #1 \\cdot #2} $\n",
    "$ \\newcommand{\\biginner}[2]{\\left\\langle #1,#2\\right\\rangle} $\n",
    "$ \\newcommand{\\mymatrix}[2]{\\left( \\begin{array}{#1} #2\\end{array} \\right)} $\n",
    "$ \\newcommand{\\myvector}[1]{\\mymatrix{c}{#1}} $\n",
    "$ \\newcommand{\\myrvector}[1]{\\mymatrix{r}{#1}} $\n",
    "$ \\newcommand{\\mypar}[1]{\\left( #1 \\right)} $\n",
    "$ \\newcommand{\\mybigpar}[1]{ \\Big( #1 \\Big)} $\n",
    "$ \\newcommand{\\sqrttwo}{\\frac{1}{\\sqrt{2}}} $\n",
    "$ \\newcommand{\\dsqrttwo}{\\dfrac{1}{\\sqrt{2}}} $\n",
    "$ \\newcommand{\\onehalf}{\\frac{1}{2}} $\n",
    "$ \\newcommand{\\donehalf}{\\dfrac{1}{2}} $\n",
    "$ \\newcommand{\\hadamard}{ \\mymatrix{rr}{ \\sqrttwo & \\sqrttwo \\\\ \\sqrttwo & -\\sqrttwo }} $\n",
    "$ \\newcommand{\\vzero}{\\myvector{1\\\\0}} $\n",
    "$ \\newcommand{\\vone}{\\myvector{0\\\\1}} $\n",
    "$ \\newcommand{\\vhadamardzero}{\\myvector{ \\sqrttwo \\\\  \\sqrttwo } } $\n",
    "$ \\newcommand{\\vhadamardone}{ \\myrvector{ \\sqrttwo \\\\ -\\sqrttwo } } $\n",
    "$ \\newcommand{\\myarray}[2]{ \\begin{array}{#1}#2\\end{array}} $\n",
    "$ \\newcommand{\\X}{ \\mymatrix{cc}{0 & 1 \\\\ 1 & 0}  } $\n",
    "$ \\newcommand{\\Z}{ \\mymatrix{rr}{1 & 0 \\\\ 0 & -1}  } $\n",
    "$ \\newcommand{\\Htwo}{ \\mymatrix{rrrr}{ \\frac{1}{2} & \\frac{1}{2} & \\frac{1}{2} & \\frac{1}{2} \\\\ \\frac{1}{2} & -\\frac{1}{2} & \\frac{1}{2} & -\\frac{1}{2} \\\\ \\frac{1}{2} & \\frac{1}{2} & -\\frac{1}{2} & -\\frac{1}{2} \\\\ \\frac{1}{2} & -\\frac{1}{2} & -\\frac{1}{2} & \\frac{1}{2} } } $\n",
    "$ \\newcommand{\\CNOT}{ \\mymatrix{cccc}{1 & 0 & 0 & 0 \\\\ 0 & 1 & 0 & 0 \\\\ 0 & 0 & 0 & 1 \\\\ 0 & 0 & 1 & 0} } $\n",
    "$ \\newcommand{\\norm}[1]{ \\left\\lVert #1 \\right\\rVert } $"
   ]
  },
  {
   "cell_type": "markdown",
   "id": "dietary-chocolate",
   "metadata": {},
   "source": [
    "# Solutions pour l'introduction à CirQ"
   ]
  },
  {
   "cell_type": "markdown",
   "id": "2eb585f1-8064-450f-96ee-f0df9d903998",
   "metadata": {},
   "source": [
    "### Exercise 1\n",
    "    \n",
    "Créez un circuit avec 10 qubits. \n",
    "\n",
    "1. Appliquez la porte $H$ au qubit 0 \n",
    "2. Appliquez 9 portes $CNOT$ où le qubit $0$ est le contrôle et les qubist $i$ sont les cibles pour $i=1,\\dots,9$.\n",
    "\n",
    "Visualisez le circuit"
   ]
  },
  {
   "cell_type": "markdown",
   "id": "eastern-player",
   "metadata": {},
   "source": [
    "<h4> Solution </h4>"
   ]
  },
  {
   "cell_type": "code",
   "execution_count": null,
   "id": "frank-landscape",
   "metadata": {},
   "outputs": [],
   "source": [
    "import cirq\n",
    "from cirq import H, CX\n",
    "\n",
    "# Création des registres quantique et classique avec 10 qubits\n",
    "qliste = cirq.LineQubit.range(10)\n",
    "\n",
    "# Création du circuit\n",
    "circuit = cirq.Circuit()\n",
    "\n",
    "# Application de la porte de Hadamard\n",
    "circuit.append(H(qliste[0]))\n",
    "\n",
    "for i in range(1,10):\n",
    "    circuit.append(CX(qliste[0],qliste[i]))\n",
    "\n",
    "# Solution à une ligne de commandes\n",
    "# circuit.append(CX(qliste[0],qliste[i]) for i in range(1,10))\n",
    "    \n",
    "print(circuit)"
   ]
  },
  {
   "cell_type": "markdown",
   "id": "62e8e907-c1c6-422a-9afb-bfdac092c99d",
   "metadata": {},
   "source": [
    "<hr>"
   ]
  },
  {
   "cell_type": "markdown",
   "id": "urban-hebrew",
   "metadata": {},
   "source": [
    "### Exercise 2\n",
    "    \n",
    "Créez un circuit avec 10 qubits. \n",
    "\n",
    "1. Appliquez les portes $H$ à tous les qubits.\n",
    "2. Appliquez la porte $X$ au qubit 0 contrôlé par les qubits 1-9\n",
    "3. Appliquez les portes $H$ à tous les qubits.\n",
    "\n",
    "Visualisez le circuit."
   ]
  },
  {
   "cell_type": "markdown",
   "id": "4d37c5bb-e24b-4f6d-be36-4cc5f76b67af",
   "metadata": {},
   "source": [
    "<h4> Solution </h4>"
   ]
  },
  {
   "cell_type": "code",
   "execution_count": null,
   "id": "internal-disclaimer",
   "metadata": {},
   "outputs": [],
   "source": [
    "import cirq\n",
    "from cirq import H, X\n",
    "\n",
    "# Création des registres quantique et classique avec 10 qubits\n",
    "qliste = cirq.LineQubit.range(10)\n",
    "\n",
    "# Création du circuit\n",
    "circuit = cirq.Circuit()\n",
    "\n",
    "# Application de la porte de Hadamard à tous les qubits\n",
    "circuit.append(H.on_each(*qliste))\n",
    "\n",
    "# Les qubits 1-9 sont les contrôles et le qubit 0 est la cible\n",
    "# L'utilisation de \"controlled_by\" est plus pratique dans ce cas-ci\n",
    "circuit.append(X(qliste[0]).controlled_by(*qliste[1:10]))\n",
    "\n",
    "# Application de la porte de Hadamard à tous les qubits\n",
    "circuit.append(H.on_each(*qliste))\n",
    "\n",
    "# Visualisation du circuit\n",
    "print(circuit)"
   ]
  },
  {
   "cell_type": "markdown",
   "id": "18ba2b27-7047-4c62-b982-bba80eff59ec",
   "metadata": {},
   "source": [
    "<hr>"
   ]
  },
  {
   "cell_type": "markdown",
   "id": "f0f57736-36f1-4ff2-80ea-327b4de8c7cf",
   "metadata": {},
   "source": [
    "<a id=\"task3\"></a>\n",
    "### Exercise 3\n",
    "    \n",
    "Implémentez le circuit de l'exercise 1. Mesurez tous les qubits et simulez votre circuit 1000 fois."
   ]
  },
  {
   "cell_type": "markdown",
   "id": "6a3f60c0-e034-4ed6-b4a9-0016b5ef268e",
   "metadata": {},
   "source": [
    "<h4> Solution </h4>"
   ]
  },
  {
   "cell_type": "code",
   "execution_count": null,
   "id": "assured-atlantic",
   "metadata": {},
   "outputs": [],
   "source": [
    "import cirq\n",
    "from cirq import H, CX, measure\n",
    "\n",
    "# Création des registres quantique et classique avec 10 qubits\n",
    "qliste = cirq.LineQubit.range(10)\n",
    "\n",
    "# Création du circuit\n",
    "circuit = cirq.Circuit()\n",
    "\n",
    "# Application de la porte de Hadamard à tous les qubits\n",
    "circuit.append(H(qliste[0]))\n",
    "\n",
    "# Application de la porte CNOT à tous les qubits sauf qubit(0)\n",
    "circuit.append(CX(qliste[0],qliste[i]) for i in range(1,10))\n",
    "\n",
    "# Mesure les qubits\n",
    "circuit.append(measure(*qliste, key='resultat'))\n",
    "\n",
    "# Simulateur local \n",
    "s = cirq.Simulator()\n",
    "\n",
    "# Echantillonage du circuit\n",
    "echantillons=s.run(circuit, repetitions=1000)\n",
    "\n",
    "def bitstring(bits):\n",
    "    return \"\".join(str(int(b)) for b in bits)\n",
    "\n",
    "counts = echantillons.histogram(key=\"resultat\",fold_func=bitstring)\n",
    "print(counts)"
   ]
  },
  {
   "cell_type": "markdown",
   "id": "7b2733d8-1ac5-4552-888b-eab13e1c32f4",
   "metadata": {},
   "source": [
    "<hr>"
   ]
  },
  {
   "cell_type": "markdown",
   "id": "7f134904-b591-490d-87c5-d1eb738dd52e",
   "metadata": {},
   "source": [
    "### Exercise 4\n",
    "    \n",
    "Créez un circuit quantique avec 4 qubits. Appliquez la porte Hadamard à chaque qubit et la porte $CZ$ aux qubits 0 et 1. Utilisez le simulateur sans mesurer le circuit. Vérifiez les entrées avec un signe négatif."
   ]
  },
  {
   "cell_type": "markdown",
   "id": "composite-embassy",
   "metadata": {},
   "source": [
    "<h3> Solution </h3>"
   ]
  },
  {
   "cell_type": "code",
   "execution_count": null,
   "id": "auburn-health",
   "metadata": {},
   "outputs": [],
   "source": [
    "import cirq\n",
    "from cirq import H, CZ\n",
    "\n",
    "qliste = cirq.LineQubit.range(4)\n",
    "\n",
    "circuit = cirq.Circuit()\n",
    "\n",
    "circuit.append(H.on_each(*qliste))\n",
    "\n",
    "circuit.append(CZ(qliste[0],qliste[1]))\n",
    "\n",
    "s = cirq.Simulator()\n",
    "resultats=s.simulate(circuit)\n",
    "print(resultats)"
   ]
  },
  {
   "cell_type": "markdown",
   "id": "sonic-enzyme",
   "metadata": {},
   "source": [
    "Les états $\\ket{1100}$, $\\ket{1101}$, $\\ket{1110}$, $\\ket{1111}$ sont négatifs."
   ]
  },
  {
   "cell_type": "code",
   "execution_count": null,
   "id": "90179ab2-e88e-4596-8686-b88ae214a351",
   "metadata": {},
   "outputs": [],
   "source": []
  }
 ],
 "metadata": {
  "kernelspec": {
   "display_name": "Python 3 (ipykernel)",
   "language": "python",
   "name": "python3"
  },
  "language_info": {
   "codemirror_mode": {
    "name": "ipython",
    "version": 3
   },
   "file_extension": ".py",
   "mimetype": "text/x-python",
   "name": "python",
   "nbconvert_exporter": "python",
   "pygments_lexer": "ipython3",
   "version": "3.10.9"
  }
 },
 "nbformat": 4,
 "nbformat_minor": 5
}
