{
 "cells": [
  {
   "cell_type": "markdown",
   "metadata": {},
   "source": [
    "<table width=\"100%\"><tr><td style=\"color:#bbbbbb;background-color:#ffffff;font-size:11px;font-style:italic;text-align:right;\">This cell contains macros. If there is a problem with displaying math formulas, please run this cell to load these macros. </td></tr></table>\n",
    "$ \\newcommand{\\bra}[1]{\\langle #1|} $\n",
    "$ \\newcommand{\\ket}[1]{|#1\\rangle} $\n",
    "$ \\newcommand{\\braket}[2]{\\langle #1|#2\\rangle} $\n",
    "$ \\newcommand{\\dot}[2]{ #1 \\cdot #2} $\n",
    "$ \\newcommand{\\biginner}[2]{\\left\\langle #1,#2\\right\\rangle} $\n",
    "$ \\newcommand{\\mymatrix}[2]{\\left( \\begin{array}{#1} #2\\end{array} \\right)} $\n",
    "$ \\newcommand{\\myvector}[1]{\\mymatrix{c}{#1}} $\n",
    "$ \\newcommand{\\myrvector}[1]{\\mymatrix{r}{#1}} $\n",
    "$ \\newcommand{\\mypar}[1]{\\left( #1 \\right)} $\n",
    "$ \\newcommand{\\mybigpar}[1]{ \\Big( #1 \\Big)} $\n",
    "$ \\newcommand{\\sqrttwo}{\\frac{1}{\\sqrt{2}}} $\n",
    "$ \\newcommand{\\dsqrttwo}{\\dfrac{1}{\\sqrt{2}}} $\n",
    "$ \\newcommand{\\onehalf}{\\frac{1}{2}} $\n",
    "$ \\newcommand{\\donehalf}{\\dfrac{1}{2}} $\n",
    "$ \\newcommand{\\hadamard}{ \\mymatrix{rr}{ \\sqrttwo & \\sqrttwo \\\\ \\sqrttwo & -\\sqrttwo }} $\n",
    "$ \\newcommand{\\vzero}{\\myvector{1\\\\0}} $\n",
    "$ \\newcommand{\\vone}{\\myvector{0\\\\1}} $\n",
    "$ \\newcommand{\\vhadamardzero}{\\myvector{ \\sqrttwo \\\\  \\sqrttwo } } $\n",
    "$ \\newcommand{\\vhadamardone}{ \\myrvector{ \\sqrttwo \\\\ -\\sqrttwo } } $\n",
    "$ \\newcommand{\\myarray}[2]{ \\begin{array}{#1}#2\\end{array}} $\n",
    "$ \\newcommand{\\X}{ \\mymatrix{cc}{0 & 1 \\\\ 1 & 0}  } $\n",
    "$ \\newcommand{\\Z}{ \\mymatrix{rr}{1 & 0 \\\\ 0 & -1}  } $\n",
    "$ \\newcommand{\\Htwo}{ \\mymatrix{rrrr}{ \\frac{1}{2} & \\frac{1}{2} & \\frac{1}{2} & \\frac{1}{2} \\\\ \\frac{1}{2} & -\\frac{1}{2} & \\frac{1}{2} & -\\frac{1}{2} \\\\ \\frac{1}{2} & \\frac{1}{2} & -\\frac{1}{2} & -\\frac{1}{2} \\\\ \\frac{1}{2} & -\\frac{1}{2} & -\\frac{1}{2} & \\frac{1}{2} } } $\n",
    "$ \\newcommand{\\CNOT}{ \\mymatrix{cccc}{1 & 0 & 0 & 0 \\\\ 0 & 1 & 0 & 0 \\\\ 0 & 0 & 0 & 1 \\\\ 0 & 0 & 1 & 0} } $\n",
    "$ \\newcommand{\\norm}[1]{ \\left\\lVert #1 \\right\\rVert } $"
   ]
  },
  {
   "cell_type": "markdown",
   "metadata": {},
   "source": [
    "<h2> Matrices: multi-dimensional lists </h2>\n",
    "\n",
    "A matrix is a list of vectors where all vectors have the same dimension.\n",
    "\n",
    "Here is an example of 4 vectors in 5 dimensions:\n",
    "\n",
    "$$\n",
    "    M = \\mymatrix{rrrrr}{8 & 0 & -1 & 0 & 2 \\\\ -2 & -3 & 1 & 1 & 4 \\\\ 0 & 0 & 1 & -7 & 1 \\\\ 1 & 4 & -2 & 5 & 9}.\n",
    "$$\n",
    "\n",
    "The matrix $M$ can also be considered to be formed of 5 column vectors with 4 dimensions each.\n",
    "\n",
    "The dimensions of $M$ are $ (4 \\times 5) $.\n",
    "\n",
    "The matrix $M$ is represented by a two-dimensional list in Python.    "
   ]
  },
  {
   "cell_type": "code",
   "execution_count": null,
   "metadata": {},
   "outputs": [],
   "source": [
    "# Intuitive writing by M\n",
    "M = [ \n",
    "    [8 , 0 , -1 , 0 , 2], \n",
    "    [-2 , -3 , 1 , 1 , 4], \n",
    "    [0 , 0 , 1 , -7 , 1],\n",
    "    [1 , 4 , -2 , 5 , 9]\n",
    "] \n",
    "\n",
    "print(M)\n",
    "print() #Print a blank line\n",
    "\n",
    "# Print M in matrix format, row by row\n",
    "\n",
    "for i in range(4): # there are 4 rows\n",
    "    print(M[i])"
   ]
  },
  {
   "cell_type": "code",
   "execution_count": null,
   "metadata": {},
   "outputs": [],
   "source": [
    "# Method with numpy\n",
    "import numpy as np\n",
    "\n",
    "M = np.array([ \n",
    "    [8 , 0 , -1 , 0 , 2], \n",
    "    [-2 , -3 , 1 , 1 , 4], \n",
    "    [0 , 0 , 1 , -7 , 1],\n",
    "    [1 , 4 , -2 , 5 , 9]\n",
    "])\n",
    "\n",
    "print(M)"
   ]
  },
  {
   "cell_type": "markdown",
   "metadata": {},
   "source": [
    "The row and column index starts with 1, by definition. With Python, on the other hand, indices start at zero.\n",
    "\n",
    "The element $(i,j)$ of $M$ corresponds to the element of row $i$ and column $j$.\n",
    "\n",
    "(It can also be denoted as $ M[i,j] $, $ M(i,j) $, or $ M_{ij} $.\n",
    "\n",
    "Here is an example:"
   ]
  },
  {
   "cell_type": "code",
   "execution_count": null,
   "metadata": {},
   "outputs": [],
   "source": [
    "M = [ \n",
    "    [8 , 0 , -1 , 0 , 2], \n",
    "    [-2 , -3 , 1 , 1 , 4], \n",
    "    [0 , 0 , 1 , -7 , 1],\n",
    "    [1 , 4 , -2 , 5 , 9]\n",
    "] \n",
    "\n",
    "# The item in row 1 and column 1.\n",
    "print(M[0][0])\n",
    "\n",
    "# The item in row 3 and column 4.\n",
    "print(M[2][3])\n",
    "\n",
    "# The item in row 4 and column 5.\n",
    "print(M[3][4])"
   ]
  },
  {
   "cell_type": "code",
   "execution_count": null,
   "metadata": {},
   "outputs": [],
   "source": [
    "# Method with Numpy\n",
    "import numpy as np\n",
    "\n",
    "M = np.array([ \n",
    "    [8 , 0 , -1 , 0 , 2], \n",
    "    [-2 , -3 , 1 , 1 , 4], \n",
    "    [0 , 0 , 1 , -7 , 1],\n",
    "    [1 , 4 , -2 , 5 , 9]\n",
    "])\n",
    "\n",
    "print(M[0,0])\n",
    "print(M[2,3])\n",
    "print(M[3,4])"
   ]
  },
  {
   "cell_type": "markdown",
   "metadata": {},
   "source": [
    "<h3> Multiplication of a matrix by a scalar </h3>\n",
    "\n",
    "Each element of $M$ is multiplied by $-2$"
   ]
  },
  {
   "cell_type": "markdown",
   "metadata": {},
   "source": [
    "If the matrix $ N= -2 M $:\n",
    "\n",
    "$$\n",
    "  N= -2 M = \\mymatrix{rrrrr}{-16 & 0 & 2 & 0 & -4 \\\\ 4 & 6 & -2 & -2 & -8 \\\\ 0 & 0 & -2 & 14 & -2 \\\\ -2 & -8 & 4 & -10 & -18}.\n",
    "$$"
   ]
  },
  {
   "cell_type": "markdown",
   "metadata": {},
   "source": [
    "<h3> Matrix transpose</h3>\n",
    "\n",
    "The transpose of a matrix is obtained by interchanging the rows and columns. \n",
    "\n",
    "The transpose of a matrix $M$ is denoted by $M^T$.\n",
    "\n",
    "Here are two examples.\n",
    "\n",
    "$$\n",
    "    M = \\mymatrix{rrrr}{-2 & 3 & 0 & 4\\\\ -1 & 1 & 5 & 9} ~~~~~ \\Rightarrow ~~~~~ M^T=\\mymatrix{rr}{-2 & -1 \\\\ 3 & 1 \\\\ 0 & 5 \\\\ 4 & 9}  ~~~~~~~~ \\mbox{ and } ~~~~~~~~\n",
    "    N = \\mymatrix{ccc}{1 & 2 & 3 \\\\ 4 & 5 & 6 \\\\ 7 & 8 & 9} ~~~~~ \\Rightarrow ~~~~~ N^T = \\mymatrix{ccc}{1 & 4 & 7 \\\\ 2 & 5 & 8 \\\\ 3 & 6 & 9}.\n",
    "$$\n",
    "\n",
    "Briefly, $ M[i,j] = M^T[j,i] $ and $ N[i,j] = N^T[j,i] $. (The indices are swapped.)"
   ]
  },
  {
   "cell_type": "code",
   "execution_count": null,
   "metadata": {},
   "outputs": [],
   "source": [
    "import numpy as np\n",
    "#Transpose of M and N matrices \n",
    "\n",
    "M = np.array([\n",
    "    [-2,3,0,4],\n",
    "    [-1,1,5,9]      \n",
    "])\n",
    "N = np.array([\n",
    "    [1,2,3],\n",
    "    [4,5,6],\n",
    "    [7,8,9]\n",
    "])\n",
    "\n",
    "print(\"The matrix M is\")\n",
    "print(M)\n",
    "print(\"The transpose of matrix M is\")\n",
    "print(M.transpose())\n",
    "\n",
    "print(\"The matrix N is\")\n",
    "print(N)\n",
    "print(\"The transpose matrix N is\")\n",
    "print(N.transpose())"
   ]
  },
  {
   "cell_type": "markdown",
   "metadata": {},
   "source": [
    "<h3> Multiplication of matrices with vectors </h3>\n",
    "\n",
    "We define the matrix $ M $ and the column vector $ v $:\n",
    "\n",
    "$$\n",
    "    M = \\mymatrix{rrr}{-1 & 0 & 1 \\\\ -2 & -3 & 4 \\\\ 1 & 5 & 6} ~~~~~~\\mbox{et}~~~~~~ v = \\myrvector{1 \\\\ -3 \\\\ 2}.\n",
    "$$\n",
    "\n",
    "Multiplying $M v$ is a new vector $u$ such that $u = M v$:\n",
    "<ul>\n",
    "    <li> The first element of $u$ is the dot product of the first row of $M$ and $v$.</li>\n",
    "    <li> The second element of $u$ is the dot product of the second row of $M$ and $v$.</li>\n",
    "    <li> The third element of $u$ is the dot product of the third row of $M$ and $v$. </li>\n",
    "</ul>\n",
    "\n",
    "Par exemple:"
   ]
  },
  {
   "cell_type": "code",
   "execution_count": null,
   "metadata": {},
   "outputs": [],
   "source": [
    "# Matrice M\n",
    "M = np.array([\n",
    "    [-1,0,1],\n",
    "    [-2,-3,4],\n",
    "    [1,5,6]\n",
    "])\n",
    "\n",
    "# Vector v\n",
    "v = np.array([1,-3,2])\n",
    "\n",
    "# The resulting vector u\n",
    "u = np.dot(M,v)\n",
    "\n",
    "print(\"M is\")\n",
    "print(M)\n",
    "print()\n",
    "print(\"v=\",v)\n",
    "print()\n",
    "print(\"u=\",u)"
   ]
  },
  {
   "cell_type": "markdown",
   "metadata": {},
   "source": [
    "<h4>Checking the calculation:</h4>\n",
    "\n",
    "$$\n",
    " \\mbox{First row:}~~~~  \\myrvector{-1 \\\\ 0 \\\\ 1} \\cdot \\myrvector{1 \\\\ -3 \\\\ 2}  = (-1)\\cdot 1 + 0 \\cdot (-3) + 1 \\cdot 2 = -1 + 0 + 2 = 1.\n",
    "$$\n",
    "$$\n",
    " \\mbox{Second row:}~~~~  \\myrvector{-2 \\\\ -3 \\\\ 4} \\cdot\\myrvector{1 \\\\ -3 \\\\ 2}  = (-2)\\cdot 1 + (-3) \\cdot (-3) + 4 \\cdot 2 = -2 + 9 + 8 = 15.\n",
    "$$\n",
    "$$\n",
    " \\mbox{Third row:}~~~~  \\myrvector{1 \\\\ 5 \\\\ 6} \\cdot \\myrvector{1 \\\\ -3 \\\\ 2}  = 1\\cdot 1 + 5 \\cdot (-3) + 6 \\cdot 2 = 1 - 15 + 12 = -2.\n",
    "$$\n",
    "\n",
    "Therefore,\n",
    "$$\n",
    "    u = \\myrvector{1 \\\\ 15 \\\\ -2 }.\n",
    "$$"
   ]
  },
  {
   "cell_type": "markdown",
   "metadata": {},
   "source": [
    "<b>Notes:</b> \n",
    "<ul>\n",
    "    <li> The dimensionality of the rows of $ M $ is the same as $ v $. Otherwise, the dot product is undefined.</li>\n",
    "    <li> The dimension of the resulting vector is the same number of rows as $ M $, since we do the scalar product of each row $ M $ with $v$</li>\n",
    "</ul>"
   ]
  },
  {
   "cell_type": "markdown",
   "metadata": {},
   "source": [
    "<h3> Matrix multiplication </h3>\n",
    "\n",
    "The procedure is a generalization of multiplying a matrix with a vector.\n",
    "\n",
    "We calculate a new matrix $ K = M N $, where \n",
    "$\n",
    "    M = \\mymatrix{rrr}{-1 & 0 & 1 \\\\ -2 & -1 & 2 \\\\ 1 & 2 & -2} ~~\\mbox{and}~~ \n",
    "    N = \\mymatrix{rrr}{0 & 2 & 1 \\\\ 3 & -1 & -2 \\\\ -1 & 1 & 0}.\n",
    "$"
   ]
  },
  {
   "cell_type": "markdown",
   "metadata": {},
   "source": [
    "Remark that the matrix $ N $ has three columns: $ v_1 = \\myrvector{0 \\\\ 3 \\\\ -1} $, $ v_2 = \\myrvector{2 \\\\ -1 \\\\ 1} $, and $ v_3 = \\myrvector{1 \\\\ -2 \\\\ 0} $.\n",
    "\n",
    "We know how to calculate $ v_1' = M  v_1 $. \n",
    "\n",
    "Similarly, we can calculate $ v_2' = M  v_2 $ and $ v_3' = M  v_3 $. \n",
    "\n",
    "These new column vectors ($v_1'$, $v_2'$, and $v_3'$) are the columns of the result matrix $ K $. \n",
    "\n",
    "The dot product of the i-th row of $ M $ and $ j $-th column of $ N $ gives the $(i,j)$-th entry of $ K $."
   ]
  },
  {
   "cell_type": "code",
   "execution_count": null,
   "metadata": {},
   "outputs": [],
   "source": [
    "import numpy as np\n",
    "\n",
    "# matrix M\n",
    "M = np.array([\n",
    "    [-1,0,1],\n",
    "    [-2,-1,2],\n",
    "    [1,2,-2]\n",
    "])\n",
    "\n",
    "# matrix N\n",
    "N = np.array([\n",
    "    [0,2,1],\n",
    "    [3,-1,-2],\n",
    "    [-1,1,0]\n",
    "])\n",
    "\n",
    "K = np.matmul(M,N)\n",
    "print(K)"
   ]
  },
  {
   "cell_type": "markdown",
   "metadata": {},
   "source": [
    "<h3> Tensor (Kronecker) product </h3>\n",
    "\n",
    "Given the vectors: $ u = \\myrvector{-2\\\\3} $ and $ v = \\myrvector{1 \\\\ 2 \\\\ -3} $.\n",
    "\n",
    "The tensor product of $u$ and $ v $ is written $ u \\otimes v $.\n",
    "\n",
    "$$\n",
    "    u \\otimes v =  \\myrvector{-2\\\\3} \\otimes \\myrvector{1 \\\\ 2 \\\\ -3} =\n",
    "   \\myrvector{ -2 \\cdot  \\myrvector{1 \\\\ 2 \\\\ -3} \\\\ 3 \\cdot  \\myrvector{1 \\\\ 2 \\\\ -3} } =\n",
    "   \\myrvector{ -2 \\\\ -4 \\\\ 6 \\\\ 3 \\\\ 6 \\\\ -9 }.\n",
    "$$\n",
    "\n",
    "Example of $ v \\otimes u $ in Python."
   ]
  },
  {
   "cell_type": "code",
   "execution_count": null,
   "metadata": {},
   "outputs": [],
   "source": [
    "import numpy as np\n",
    "# vector v\n",
    "v = [1,2,-3]\n",
    "# vector u\n",
    "u=[-2,3]\n",
    "\n",
    "vu = np.kron(v,u)\n",
    "\n",
    "print(\"v=\",v)\n",
    "print(\"u=\",u)\n",
    "print(\"vu=\",vu)"
   ]
  },
  {
   "cell_type": "markdown",
   "metadata": {},
   "source": [
    "\n",
    "<b>Example of the tensor product between two matrices</b>"
   ]
  },
  {
   "cell_type": "code",
   "execution_count": null,
   "metadata": {},
   "outputs": [],
   "source": [
    "# matrix M\n",
    "M = np.array([ \n",
    "    [-1,0,1],\n",
    "    [-2,-1,2],\n",
    "    [1,2,-2]\n",
    "])\n",
    "\n",
    "# matrix N\n",
    "N = np.array([\n",
    "    [0,2,1],\n",
    "    [3,-1,-2],\n",
    "    [-1,1,0]\n",
    "])\n",
    "\n",
    "# tensor product of M and N\n",
    "MN = np.kron(M,N)\n",
    "\n",
    "print(\"M-tensor-N is\")                \n",
    "print(MN)"
   ]
  },
  {
   "cell_type": "markdown",
   "metadata": {},
   "source": [
    "<hr>"
   ]
  },
  {
   "cell_type": "markdown",
   "metadata": {},
   "source": [
    "<h2>Exercises</h2>"
   ]
  },
  {
   "cell_type": "markdown",
   "metadata": {},
   "source": [
    "<h3> Exercise 1 </h3>\n",
    "\n",
    "Calculate $ u' = N u $ for the matrix $ N $ and the column vector $ u $:\n",
    "\n",
    "$$\n",
    "    N = \\mymatrix{rrr}{-1 & 1 & 2 \\\\ 0 & -2 & -3 \\\\ 3 & 2 & 5 \\\\ 0 & 2 & -2} ~~~~~~\\mbox{and}~~~~~~ u = \\myrvector{2 \\\\ -1 \\\\ 3}.\n",
    "$$"
   ]
  },
  {
   "cell_type": "code",
   "execution_count": null,
   "metadata": {},
   "outputs": [],
   "source": [
    "#\n",
    "# your solution here\n",
    "#\n"
   ]
  },
  {
   "cell_type": "markdown",
   "metadata": {},
   "source": [
    "<h3> Exercise 2</h3>\n",
    "\n",
    "Define two matrices  $A$ and $ B $ with random elements of dimension $ (2 \\times 2) $. \n",
    "\n",
    "Calculate $ C= AB-BA $. \n",
    "\n",
    "<i>Note: If by chance, the multiplication of the matrices $ (A,B) $ produces $ AB = BA $, regenerate the random numbers again."
   ]
  },
  {
   "cell_type": "code",
   "execution_count": null,
   "metadata": {},
   "outputs": [],
   "source": [
    "#\n",
    "# your solution here\n",
    "#\n"
   ]
  }
 ],
 "metadata": {
  "kernelspec": {
   "display_name": "Python 3 (ipykernel)",
   "language": "python",
   "name": "python3"
  },
  "language_info": {
   "codemirror_mode": {
    "name": "ipython",
    "version": 3
   },
   "file_extension": ".py",
   "mimetype": "text/x-python",
   "name": "python",
   "nbconvert_exporter": "python",
   "pygments_lexer": "ipython3",
   "version": "3.10.9"
  }
 },
 "nbformat": 4,
 "nbformat_minor": 4
}
