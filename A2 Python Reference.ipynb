{
 "cells": [
  {
   "cell_type": "markdown",
   "metadata": {},
   "source": [
    "<h1> Python: cheat sheet </h1>\n",
    "<hr>\n",
    "<ul>\n",
    "    <li><a href=\"#Variables\">Variables</a></li>\n",
    "    <li><a href=\"#Operations\">Arithmetic</a></li>\n",
    "    <li><a href=\"#Objets\">Objects</a></li>\n",
    "    <li><a href=\"#Taille\">Object size</a></li>    \n",
    "    <li><a href=\"#Boucles\">Loops</a></li>\n",
    "    <li><a href=\"#Conditions\">Conditional loops</a></li>\n",
    "    <li><a href=\"#Booleens\">Logical and boolean operators</a></li>\n",
    "    <li><a href=\"#Matrices\">Nested lists and matrices</a></li>\n",
    "    <li><a href=\"#Listes\">Operations on lists</a></li>\n",
    "    <li><a href=\"#Fonctions\">Functions</a></li>\n",
    "    <li><a href=\"#Aleatoires\">Random numbers</a></li>\n",
    "    <li><a href=\"#Complexes\">Complex numbers</a></li>\n",
    "</ul>\n",
    "<hr>"
   ]
  },
  {
   "cell_type": "markdown",
   "metadata": {},
   "source": [
    "<a id=\"Variables\"></a>\n",
    "<h3> Variables </h3>"
   ]
  },
  {
   "cell_type": "code",
   "execution_count": null,
   "metadata": {},
   "outputs": [],
   "source": [
    "num = 5 # integer\n",
    "real = -3.4 # real number\n",
    "\n",
    "name = 'Asja' # string\n",
    "lastname = \"Sarkana\" # string\n",
    "\n",
    "boolean1 = True # boolean \n",
    "boolean2 = False # boolean "
   ]
  },
  {
   "cell_type": "markdown",
   "metadata": {},
   "source": [
    "<hr>"
   ]
  },
  {
   "cell_type": "markdown",
   "metadata": {},
   "source": [
    "<a id=\"Operations\"></a>\n",
    "<h3> Arithmetic </h3>"
   ]
  },
  {
   "cell_type": "markdown",
   "metadata": {},
   "source": [
    "<h4> Basic operations </h4>"
   ]
  },
  {
   "cell_type": "code",
   "execution_count": null,
   "metadata": {},
   "outputs": [],
   "source": [
    "a = 13\n",
    "b = 5\n",
    "print(\"a =\",a)\n",
    "print(\"b =\",b)\n",
    "print()\n",
    "\n",
    "# Basic operations\n",
    "print(\"a + b =\",a+b)\n",
    "print(\"a - b =\",a-b)\n",
    "print(\"a * b =\",a*b)\n",
    "print(\"a / b =\",a/b)"
   ]
  },
  {
   "cell_type": "markdown",
   "metadata": {},
   "source": [
    "<h4> Integer division and modulo </h4>"
   ]
  },
  {
   "cell_type": "code",
   "execution_count": null,
   "metadata": {},
   "outputs": [],
   "source": [
    "a = 13\n",
    "b = 5\n",
    "print(\"a =\",a)\n",
    "print(\"b =\",b)\n",
    "print()\n",
    "\n",
    "print(\"Integer division:\")\n",
    "print(\"a//b =\",a//b)\n",
    "\n",
    "print(\"Modulo:\")\n",
    "print(\"a mod b =\",a % b)"
   ]
  },
  {
   "cell_type": "markdown",
   "metadata": {},
   "source": [
    "<h4> Exponential</h4>\n",
    "\n",
    "number\\*\\*exponent"
   ]
  },
  {
   "cell_type": "code",
   "execution_count": null,
   "metadata": {},
   "outputs": [],
   "source": [
    "b = 5\n",
    "print(\"b =\",b)\n",
    "print()\n",
    "\n",
    "print(\"b*b =\",b**2)\n",
    "print(\"b*b*b =\",b**3)\n",
    "print(\"sqrt(b)=\",b**0.5)"
   ]
  },
  {
   "cell_type": "markdown",
   "metadata": {},
   "source": [
    "<hr>"
   ]
  },
  {
   "cell_type": "markdown",
   "metadata": {},
   "source": [
    "<a id=\"Objets\"></a>\n",
    "<h3> Objects </h3>"
   ]
  },
  {
   "cell_type": "markdown",
   "metadata": {},
   "source": [
    "<h4> Lists </h4>"
   ]
  },
  {
   "cell_type": "code",
   "execution_count": null,
   "metadata": {},
   "outputs": [],
   "source": [
    "mylist = [10,8,6,4,2] \n",
    "\n",
    "print(mylist)"
   ]
  },
  {
   "cell_type": "markdown",
   "metadata": {},
   "source": [
    "<h4> Tuple </h4>"
   ]
  },
  {
   "cell_type": "code",
   "execution_count": null,
   "metadata": {},
   "outputs": [],
   "source": [
    "# A tuple is a list that cannot be modified (non mutable)\n",
    "\n",
    "mytuple=(1,4,5,'Asja') \n",
    "\n",
    "print(mytuple)"
   ]
  },
  {
   "cell_type": "markdown",
   "metadata": {},
   "source": [
    "<h4> Dictionary </h4>"
   ]
  },
  {
   "cell_type": "code",
   "execution_count": null,
   "metadata": {},
   "outputs": [],
   "source": [
    "# A dictionary contains a key to identify each element\n",
    "\n",
    "mydictionary = {\n",
    "    'name' : \"Asja\",\n",
    "    'lastname':'Sarkane',\n",
    "    'age': 23\n",
    "}\n",
    "\n",
    "print(mydictionary)\n",
    "\n",
    "print(mydictionary['lastname'])"
   ]
  },
  {
   "cell_type": "markdown",
   "metadata": {},
   "source": [
    "<h4>Other objects or variables </h4>"
   ]
  },
  {
   "cell_type": "code",
   "execution_count": null,
   "metadata": {},
   "outputs": [],
   "source": [
    "# A list can include elements of all types mixed together\n",
    "\n",
    "other_objects =[\n",
    "    mylist,\n",
    "    mytuple,\n",
    "    3,\n",
    "    \"Asja\",\n",
    "    mydictionary\n",
    "]\n",
    "\n",
    "print(other_objects)"
   ]
  },
  {
   "cell_type": "markdown",
   "metadata": {},
   "source": [
    "<hr>"
   ]
  },
  {
   "cell_type": "markdown",
   "metadata": {},
   "source": [
    "<a id=\"Taille\"></a>\n",
    "<h3> Object size </h3>\n",
    "\n",
    "\"len()\" is used with an object within the parenthesis."
   ]
  },
  {
   "cell_type": "code",
   "execution_count": null,
   "metadata": {},
   "outputs": [],
   "source": [
    "# String length\n",
    "print(len(\"Asja Sarkane\"))\n",
    "\n",
    "# List length\n",
    "print(len([1,2,3,4]))\n",
    "\n",
    "# Dictionary size\n",
    "mydictionary = { 'name' : \"Asja\", 'lastname':'Sarkane', 'age': 23}\n",
    "print(len(mydictionary))"
   ]
  },
  {
   "cell_type": "markdown",
   "metadata": {},
   "source": [
    "<hr>"
   ]
  },
  {
   "cell_type": "markdown",
   "metadata": {},
   "source": [
    "<a id=\"Boucles\"></a>\n",
    "<h3> Loops </h3>"
   ]
  },
  {
   "cell_type": "markdown",
   "metadata": {},
   "source": [
    "<h4> \"while\" loops </h4>"
   ]
  },
  {
   "cell_type": "code",
   "execution_count": null,
   "metadata": {},
   "outputs": [],
   "source": [
    "i = 10\n",
    "while i>0: # condition(s) for the while command :\n",
    "    print(i)\n",
    "    i = i - 1   "
   ]
  },
  {
   "cell_type": "markdown",
   "metadata": {},
   "source": [
    "<h4> \"For\" loop </h4>"
   ]
  },
  {
   "cell_type": "code",
   "execution_count": null,
   "metadata": {},
   "outputs": [],
   "source": [
    "for i in range(10): # i is within the sequence [0,1,...,9]. Sequences start at 0 in Python.\n",
    "    print(i)"
   ]
  },
  {
   "cell_type": "code",
   "execution_count": null,
   "metadata": {},
   "outputs": [],
   "source": [
    "for i in range(-5,6): # i is within the sequence [-5,-4,...,0,...,4,5]\n",
    "    print(i)"
   ]
  },
  {
   "cell_type": "code",
   "execution_count": null,
   "metadata": {},
   "outputs": [],
   "source": [
    "for i in range(0,23,4): # every 4th value of the sequence 0-22: [0,4,8,12,16,20]\n",
    "    print(i)"
   ]
  },
  {
   "cell_type": "code",
   "execution_count": null,
   "metadata": {},
   "outputs": [],
   "source": [
    "for i in [3,8,-5,11]: \n",
    "    print(i)"
   ]
  },
  {
   "cell_type": "code",
   "execution_count": null,
   "metadata": {},
   "outputs": [],
   "source": [
    "for i in \"Sarkane\":\n",
    "    print(i)"
   ]
  },
  {
   "cell_type": "code",
   "execution_count": null,
   "metadata": {},
   "outputs": [],
   "source": [
    "mydictionary = {\n",
    "    'name' : \"Asja\",\n",
    "    'lastname':'Sarkane',\n",
    "    'age': 23,\n",
    "}\n",
    "\n",
    "for key in mydictionary:\n",
    "    print(\"The key is\",key,\"and its value is\",mydictionary[key])"
   ]
  },
  {
   "cell_type": "markdown",
   "metadata": {},
   "source": [
    "<hr>"
   ]
  },
  {
   "cell_type": "markdown",
   "metadata": {},
   "source": [
    "<a id=\"Conditions\"></a>\n",
    "<h3>Conditional loops </h3>"
   ]
  },
  {
   "cell_type": "code",
   "execution_count": null,
   "metadata": {},
   "outputs": [],
   "source": [
    "for a in range(4,7):\n",
    "    \n",
    "    if a<5: \n",
    "        print(a,\"is less than 5\")\n",
    "        \n",
    "    # else if\n",
    "    elif a==5: \n",
    "        print(a,\"is equal to 5\")\n",
    "        \n",
    "    # else\n",
    "    else:\n",
    "        print(a,\"is greater than 5\")"
   ]
  },
  {
   "cell_type": "markdown",
   "metadata": {},
   "source": [
    "<hr>"
   ]
  },
  {
   "cell_type": "markdown",
   "metadata": {},
   "source": [
    "<a id=\"Booleens\"></a>\n",
    "<h3>Logical and boolean operations</h3>"
   ]
  },
  {
   "cell_type": "markdown",
   "metadata": {},
   "source": [
    "<h4> Logical operation \"and\"</h4>"
   ]
  },
  {
   "cell_type": "code",
   "execution_count": null,
   "metadata": {},
   "outputs": [],
   "source": [
    "i = -3\n",
    "j = 4\n",
    "if i<0 and j > 0:  \n",
    "    print(i,\"is negative AND\",j,\"is positive\")"
   ]
  },
  {
   "cell_type": "markdown",
   "metadata": {},
   "source": [
    "<h4>Logical operation \"or\"</h4>"
   ]
  },
  {
   "cell_type": "code",
   "execution_count": null,
   "metadata": {},
   "outputs": [],
   "source": [
    "i = -2\n",
    "j = 2\n",
    "if i==2 or j == 2:  \n",
    "    print(\"i OR j is 2: (\",i,\",\",j,\")\")"
   ]
  },
  {
   "cell_type": "markdown",
   "metadata": {},
   "source": [
    "<h4>Logical operation \"not\" </h4>"
   ]
  },
  {
   "cell_type": "code",
   "execution_count": null,
   "metadata": {},
   "outputs": [],
   "source": [
    "i = 3\n",
    "if not (i==2):\n",
    "    print(i,\"is NOT equal to 2\")"
   ]
  },
  {
   "cell_type": "markdown",
   "metadata": {},
   "source": [
    "<h4> Conditional \"equal to\" </h4>"
   ]
  },
  {
   "cell_type": "code",
   "execution_count": null,
   "metadata": {},
   "outputs": [],
   "source": [
    "i = -1\n",
    "if i == -1:\n",
    "    print(i,\"is equal to -1\")"
   ]
  },
  {
   "cell_type": "markdown",
   "metadata": {},
   "source": [
    "<h4> Conditional \"not equal to\" </h4>"
   ]
  },
  {
   "cell_type": "code",
   "execution_count": null,
   "metadata": {},
   "outputs": [],
   "source": [
    "i = 4\n",
    "if i != 3:\n",
    "    print(i,\"is not equal to 3\")"
   ]
  },
  {
   "cell_type": "markdown",
   "metadata": {},
   "source": [
    "<h4> Conditional \"less than or equal to\" </h4>"
   ]
  },
  {
   "cell_type": "code",
   "execution_count": null,
   "metadata": {},
   "outputs": [],
   "source": [
    "i = 2\n",
    "if i <= 5:\n",
    "    print(i,\"is smaller or equal to 5\")"
   ]
  },
  {
   "cell_type": "markdown",
   "metadata": {},
   "source": [
    "<h4> Conditional \"greater than or equal to\" </h4>"
   ]
  },
  {
   "cell_type": "code",
   "execution_count": null,
   "metadata": {},
   "outputs": [],
   "source": [
    "i = 5\n",
    "if i >= 1:\n",
    "    print(i,\"is greater or equal to 3\")"
   ]
  },
  {
   "cell_type": "markdown",
   "metadata": {},
   "source": [
    "<hr>"
   ]
  },
  {
   "cell_type": "markdown",
   "metadata": {},
   "source": [
    "<a id=\"Matrices\"></a>\n",
    "<h3> Nested lists or matrices </h3>"
   ]
  },
  {
   "cell_type": "code",
   "execution_count": null,
   "metadata": {},
   "outputs": [],
   "source": [
    "A =[\n",
    "    [1,2,3],\n",
    "    [-2,-4,-6],\n",
    "    [3,6,9]\n",
    "]\n",
    "\n",
    "print(A)\n",
    "print()\n",
    "\n",
    "# Order one result per line\n",
    "for list in A:\n",
    "    print(list)"
   ]
  },
  {
   "cell_type": "markdown",
   "metadata": {},
   "source": [
    "<hr>"
   ]
  },
  {
   "cell_type": "markdown",
   "metadata": {},
   "source": [
    "<a id=\"Listes\"></a>\n",
    "<h3>List operations</h3>"
   ]
  },
  {
   "cell_type": "markdown",
   "metadata": {},
   "source": [
    "<h4> Concatenating two lists </h4>"
   ]
  },
  {
   "cell_type": "code",
   "execution_count": null,
   "metadata": {},
   "outputs": [],
   "source": [
    "list1 = [1,2,3]\n",
    "list2 = [4,5,6]\n",
    "\n",
    "#Concatenating two lists\n",
    "\n",
    "list3 = list1 + list2\n",
    "print(liste3)\n",
    "\n",
    "list4 = list2 + list1\n",
    "print(liste)"
   ]
  },
  {
   "cell_type": "markdown",
   "metadata": {},
   "source": [
    "<h4> Add an element to a list </h4>"
   ]
  },
  {
   "cell_type": "code",
   "execution_count": null,
   "metadata": {},
   "outputs": [],
   "source": [
    "list = [0,1,2]\n",
    "\n",
    "list.append(3)\n",
    "print(list)\n",
    "\n",
    "list = list + [4]\n",
    "print(list)"
   ]
  },
  {
   "cell_type": "markdown",
   "metadata": {},
   "source": [
    "<hr>"
   ]
  },
  {
   "cell_type": "markdown",
   "metadata": {},
   "source": [
    "<a id=\"Fonctions\"></a>\n",
    "<h3>Functions</h3>"
   ]
  },
  {
   "cell_type": "code",
   "execution_count": null,
   "metadata": {},
   "outputs": [],
   "source": [
    "def integer_sum(n):\n",
    "    sum = 0\n",
    "    for integer in range(n+1):\n",
    "        sum = sum + integer # can also write as \"sum += integer\"\n",
    "    return sum\n",
    "\n",
    "print(integer_sum(10))\n",
    "print(integer_sum(20))"
   ]
  },
  {
   "cell_type": "markdown",
   "metadata": {},
   "source": [
    " <hr>"
   ]
  },
  {
   "cell_type": "markdown",
   "metadata": {},
   "source": [
    "<a id=\"Aleatoires\"></a>\n",
    "<h3>Random number</h3>\n",
    "\n",
    "Command: \"randrange()\"."
   ]
  },
  {
   "cell_type": "code",
   "execution_count": null,
   "metadata": {},
   "outputs": [],
   "source": [
    "from random import randrange\n",
    "\n",
    "print(randrange(10),\"produces random numbers between 0 and 9\")\n",
    "      \n",
    "print(randrange(-9,10),\"produces random numbers betweeen -9 and 9\")\n",
    "\n",
    "print(randrange(0,20,3),\"chosen randomly from the list [0,3,6,9,12,15,18]\")"
   ]
  },
  {
   "cell_type": "code",
   "execution_count": null,
   "metadata": {},
   "outputs": [],
   "source": [
    "# Numpy method of generating random numbers\n",
    "\n",
    "import numpy as np\n",
    "\n",
    "# Syntax : numpy.random.randint(low, high=None, size=None, dtype=’l’) the range of numbers is defined from \"low\" to \"high\", matrix \"size\", and the type (real, long) [optional]\n",
    "ex = np.random.randint(-10,10,(3,3))\n",
    "print(ex)"
   ]
  },
  {
   "cell_type": "markdown",
   "metadata": {},
   "source": [
    " <hr>"
   ]
  },
  {
   "cell_type": "markdown",
   "metadata": {},
   "source": [
    "<a id=\"Complexes\"></a>\n",
    "<h3>Complex numbers</h3>\n",
    "\n",
    "The letter \"j\" is added to the imaginary part of the complex number"
   ]
  },
  {
   "cell_type": "code",
   "execution_count": null,
   "metadata": {},
   "outputs": [],
   "source": [
    "# \"j\" is used instead of \"i\" as in other programming languages\n",
    "z = 2 + 3j\n",
    "\n",
    "# The command \"complex\" can also be used\n",
    "z = complex(2,3)\n",
    "print(z)"
   ]
  },
  {
   "cell_type": "code",
   "execution_count": null,
   "metadata": {},
   "outputs": [],
   "source": []
  }
 ],
 "metadata": {
  "kernelspec": {
   "display_name": "Python 3 (ipykernel)",
   "language": "python",
   "name": "python3"
  },
  "language_info": {
   "codemirror_mode": {
    "name": "ipython",
    "version": 3
   },
   "file_extension": ".py",
   "mimetype": "text/x-python",
   "name": "python",
   "nbconvert_exporter": "python",
   "pygments_lexer": "ipython3",
   "version": "3.10.9"
  }
 },
 "nbformat": 4,
 "nbformat_minor": 4
}
